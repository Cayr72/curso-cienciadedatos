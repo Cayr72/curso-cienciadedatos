{
 "cells": [
  {
   "cell_type": "markdown",
   "id": "18a62d2f",
   "metadata": {},
   "source": [
    "# Se trabaja con un archivo de notas de asignaturas de una carrera de Ingeniería. La escala de notas es del 1 al 7."
   ]
  },
  {
   "cell_type": "code",
   "execution_count": 3,
   "id": "f21ab64b",
   "metadata": {},
   "outputs": [],
   "source": [
    "import pandas as pd\n",
    "import numpy as np"
   ]
  },
  {
   "cell_type": "code",
   "execution_count": 2,
   "id": "b909da30",
   "metadata": {},
   "outputs": [
    {
     "name": "stdout",
     "output_type": "stream",
     "text": [
      "           Sexo  NotaProm  NotaFin     Asig   Año Semestre       Turno  \\\n",
      "Estudiante                                                               \n",
      "1             M       5.0      4.7  DPA7101  2021        1  Vespertino   \n",
      "2             M       5.8      5.8  DPA7101  2021        1  Vespertino   \n",
      "3             M       3.6      2.6  DPA7101  2021        1  Vespertino   \n",
      "4             M       3.8      4.0  DPA7101  2021        1  Vespertino   \n",
      "5             M       4.3      4.7  DPA7101  2021        1  Vespertino   \n",
      "...         ...       ...      ...      ...   ...      ...         ...   \n",
      "452           M       6.1      5.3  PCI1101  2019        1      Diurno   \n",
      "453           M       6.1      4.9  PCI1101  2019        1      Diurno   \n",
      "454           M       4.2      4.0  PCI1101  2019        1      Diurno   \n",
      "455           M       4.0      4.0  PCI1101  2019        1      Diurno   \n",
      "456           M       5.3      3.6  PCI1101  2019        1      Diurno   \n",
      "\n",
      "           AprobAsig  NotaET AprobET  \n",
      "Estudiante                            \n",
      "1                 Si    4.25      Si  \n",
      "2                 Si    5.80      Si  \n",
      "3                 No    1.10      No  \n",
      "4                 Si    4.30      No  \n",
      "5                 Si    5.30      Si  \n",
      "...              ...     ...     ...  \n",
      "452               Si    4.10      Si  \n",
      "453               Si    3.10      Si  \n",
      "454               Si    3.70      Si  \n",
      "455               Si    4.00      Si  \n",
      "456               No    1.05      Si  \n",
      "\n",
      "[456 rows x 10 columns]\n",
      "Sexo          object\n",
      "NotaProm     float64\n",
      "NotaFin      float64\n",
      "Asig          object\n",
      "Año            int64\n",
      "Semestre      object\n",
      "Turno         object\n",
      "AprobAsig     object\n",
      "NotaET       float64\n",
      "AprobET       object\n",
      "dtype: object\n"
     ]
    }
   ],
   "source": [
    "#header=1 permite que tome el encabezado de cada columna desde la fila 1 del archivo\n",
    "#index col = 0, define los indices de cada una de las filas, los cuales seran los que esten en la columna 0 del archivo\n",
    "\n",
    "df = pd.read_csv('DATAS/Calificaciones/Notas1_Ajustadas.csv', index_col = 0)\n",
    "\n",
    "print(df)\n",
    "print(df.dtypes)"
   ]
  },
  {
   "cell_type": "code",
   "execution_count": 4,
   "id": "a10c6fa3",
   "metadata": {},
   "outputs": [],
   "source": [
    "import seaborn as sns\n",
    "import matplotlib.pyplot as plt"
   ]
  },
  {
   "cell_type": "code",
   "execution_count": 5,
   "id": "9c39cfe2",
   "metadata": {},
   "outputs": [
    {
     "data": {
      "image/png": "[encoded data removed]",
      "text/plain": [
       "<Figure size 1080x432 with 1 Axes>"
      ]
     },
     "metadata": {
      "needs_background": "light"
     },
     "output_type": "display_data"
    }
   ],
   "source": [
    "#Se define el tamaño del gráfico\n",
    "plt.figure(figsize = (15, 6))\n",
    "\n",
    "#Se crea el boxplot de las notas finales para cada una de las asignaturas \n",
    "sns.boxplot(x = 'Asig', y = 'NotaFin', data = df) \n",
    "\n",
    "#Se coloca el título a la gráfica\n",
    "plt.title(\"Notas Finales por asignatura\");"
   ]
  },
  {
   "cell_type": "markdown",
   "id": "51c11c7c",
   "metadata": {},
   "source": [
    "# Se extrae la asignatura con más datos atípicos ACE4101"
   ]
  },
  {
   "cell_type": "code",
   "execution_count": 6,
   "id": "92b96863",
   "metadata": {},
   "outputs": [
    {
     "name": "stdout",
     "output_type": "stream",
     "text": [
      "           Sexo  NotaProm  NotaFin     Asig   Año Semestre       Turno  \\\n",
      "Estudiante                                                               \n",
      "207           M       5.1      4.4  ACE4101  2019        2  Vespertino   \n",
      "208           M       6.0      6.0  ACE4101  2019        2  Vespertino   \n",
      "209           M       5.9      5.9  ACE4101  2019        2  Vespertino   \n",
      "210           M       5.0      4.2  ACE4101  2019        2  Vespertino   \n",
      "211           M       5.5      5.5  ACE4101  2019        2  Vespertino   \n",
      "...         ...       ...      ...      ...   ...      ...         ...   \n",
      "285           M       5.6      5.6  ACE4101  2019        2  Vespertino   \n",
      "286           M       6.0      6.0  ACE4101  2019        2  Vespertino   \n",
      "287           M       5.6      5.6  ACE4101  2019        2  Vespertino   \n",
      "288           M       1.8      1.5  ACE4101  2019        2  Vespertino   \n",
      "289           M       6.5      6.5  ACE4101  2019        2  Vespertino   \n",
      "\n",
      "           AprobAsig  NotaET AprobET  \n",
      "Estudiante                            \n",
      "207               Si    3.35      Si  \n",
      "208               Si    6.00      Si  \n",
      "209               Si    5.90      Si  \n",
      "210               Si    3.00      Si  \n",
      "211               Si    5.50      Si  \n",
      "...              ...     ...     ...  \n",
      "285               Si    5.60      Si  \n",
      "286               Si    6.00      Si  \n",
      "287               Si    5.60      Si  \n",
      "288               No    1.05      No  \n",
      "289               Si    6.50      Si  \n",
      "\n",
      "[83 rows x 10 columns]\n"
     ]
    }
   ],
   "source": [
    "print(df.loc[ df[\"Asig\"] == 'ACE4101'])"
   ]
  },
  {
   "cell_type": "code",
   "execution_count": 7,
   "id": "716a1b12",
   "metadata": {},
   "outputs": [
    {
     "name": "stdout",
     "output_type": "stream",
     "text": [
      "           Sexo  NotaProm  NotaFin     Asig   Año Semestre       Turno  \\\n",
      "Estudiante                                                               \n",
      "207           M       5.1      4.4  ACE4101  2019        2  Vespertino   \n",
      "208           M       6.0      6.0  ACE4101  2019        2  Vespertino   \n",
      "209           M       5.9      5.9  ACE4101  2019        2  Vespertino   \n",
      "210           M       5.0      4.2  ACE4101  2019        2  Vespertino   \n",
      "211           M       5.5      5.5  ACE4101  2019        2  Vespertino   \n",
      "...         ...       ...      ...      ...   ...      ...         ...   \n",
      "285           M       5.6      5.6  ACE4101  2019        2  Vespertino   \n",
      "286           M       6.0      6.0  ACE4101  2019        2  Vespertino   \n",
      "287           M       5.6      5.6  ACE4101  2019        2  Vespertino   \n",
      "288           M       1.8      1.5  ACE4101  2019        2  Vespertino   \n",
      "289           M       6.5      6.5  ACE4101  2019        2  Vespertino   \n",
      "\n",
      "           AprobAsig  NotaET AprobET  \n",
      "Estudiante                            \n",
      "207               Si    3.35      Si  \n",
      "208               Si    6.00      Si  \n",
      "209               Si    5.90      Si  \n",
      "210               Si    3.00      Si  \n",
      "211               Si    5.50      Si  \n",
      "...              ...     ...     ...  \n",
      "285               Si    5.60      Si  \n",
      "286               Si    6.00      Si  \n",
      "287               Si    5.60      Si  \n",
      "288               No    1.05      No  \n",
      "289               Si    6.50      Si  \n",
      "\n",
      "[83 rows x 10 columns]\n"
     ]
    }
   ],
   "source": [
    "dfACE4101 = df.loc[ df[\"Asig\"] == 'ACE4101']\n",
    "print(dfACE4101)"
   ]
  },
  {
   "cell_type": "code",
   "execution_count": 8,
   "id": "8e515d4f",
   "metadata": {},
   "outputs": [
    {
     "data": {
      "image/png": "[encoded data removed]",
      "text/plain": [
       "<Figure size 432x288 with 1 Axes>"
      ]
     },
     "metadata": {
      "needs_background": "light"
     },
     "output_type": "display_data"
    }
   ],
   "source": [
    "sns.boxplot(y = 'NotaFin', data = dfACE4101)\n",
    "plt.show()"
   ]
  },
  {
   "cell_type": "markdown",
   "id": "56c96184",
   "metadata": {},
   "source": [
    "# Se obtiene la estadistica descriptiva de las notas finales"
   ]
  },
  {
   "cell_type": "code",
   "execution_count": 11,
   "id": "a7a8e407",
   "metadata": {},
   "outputs": [
    {
     "data": {
      "text/plain": [
       "count    83.000000\n",
       "mean      4.772289\n",
       "std       1.610356\n",
       "min       1.000000\n",
       "25%       4.300000\n",
       "50%       5.500000\n",
       "75%       5.800000\n",
       "max       6.700000\n",
       "Name: NotaFin, dtype: float64"
      ]
     },
     "execution_count": 11,
     "metadata": {},
     "output_type": "execute_result"
    }
   ],
   "source": [
    "a = dfACE4101['NotaFin'].describe()\n",
    "a"
   ]
  },
  {
   "cell_type": "markdown",
   "id": "7806f14e",
   "metadata": {},
   "source": [
    "# Se calcula el rango intercuartil"
   ]
  },
  {
   "cell_type": "code",
   "execution_count": 12,
   "id": "7e92e043",
   "metadata": {},
   "outputs": [
    {
     "data": {
      "text/plain": [
       "1.4999999999999991"
      ]
     },
     "execution_count": 12,
     "metadata": {},
     "output_type": "execute_result"
    }
   ],
   "source": [
    "iqr = a[6]-a[4]\n",
    "iqr"
   ]
  },
  {
   "cell_type": "markdown",
   "id": "89ad8bd9",
   "metadata": {},
   "source": [
    "# Se obtienen los limites del Boxplot"
   ]
  },
  {
   "cell_type": "code",
   "execution_count": 14,
   "id": "0bfa97d6",
   "metadata": {},
   "outputs": [
    {
     "name": "stdout",
     "output_type": "stream",
     "text": [
      "2.050000000000002 8.049999999999999\n"
     ]
    }
   ],
   "source": [
    "limitmin = a[4]-1.5*iqr\n",
    "limitmax = a[6]+1.5*iqr\n",
    "print(limitmin, limitmax)"
   ]
  },
  {
   "cell_type": "markdown",
   "id": "7c9f36ec",
   "metadata": {},
   "source": [
    "# Se determinan los datos atípicos"
   ]
  },
  {
   "cell_type": "code",
   "execution_count": 17,
   "id": "caffea93",
   "metadata": {},
   "outputs": [
    {
     "name": "stdout",
     "output_type": "stream",
     "text": [
      "[2.0, 1.4, 1.0, 1.0, 1.6, 1.0, 1.8, 1.2, 1.0, 1.1, 1.5, 1.5]\n"
     ]
    }
   ],
   "source": [
    "Atipicos = []\n",
    "c = dfACE4101['NotaFin']\n",
    "    \n",
    "for Nota in c:\n",
    "    if Nota > limitmax:\n",
    "        Atipicos.append(Nota)\n",
    "    elif Nota < limitmin:\n",
    "        Atipicos.append(Nota)\n",
    "    \n",
    "print(Atipicos)"
   ]
  },
  {
   "cell_type": "code",
   "execution_count": null,
   "id": "1e2e1084",
   "metadata": {},
   "outputs": [],
   "source": []
  }
 ],
 "metadata": {
  "kernelspec": {
   "display_name": "Python 3",
   "language": "python",
   "name": "python3"
  },
  "language_info": {
   "codemirror_mode": {
    "name": "ipython",
    "version": 3
   },
   "file_extension": ".py",
   "mimetype": "text/x-python",
   "name": "python",
   "nbconvert_exporter": "python",
   "pygments_lexer": "ipython3",
   "version": "3.8.8"
  }
 },
 "nbformat": 4,
 "nbformat_minor": 5
}
